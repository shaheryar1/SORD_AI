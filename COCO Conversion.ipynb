{
 "cells": [
  {
   "cell_type": "code",
   "execution_count": 6,
   "id": "f2ac4c4d",
   "metadata": {},
   "outputs": [],
   "source": [
    "import os\n",
    "import pandas as pd\n",
    "import numpy as np \n",
    "import matplotlib.pyplot as plt\n",
    "import json\n",
    "from pathlib import Path\n",
    "import cv2\n",
    "import mmcv\n",
    "from tqdm import tqdm\n",
    "from sklearn.model_selection import train_test_split"
   ]
  },
  {
   "cell_type": "code",
   "execution_count": 7,
   "id": "2d4cce1b",
   "metadata": {},
   "outputs": [],
   "source": [
    "DATASET_BASE_PATH=Path('D:\\SORD AI\\Dataset')"
   ]
  },
  {
   "cell_type": "code",
   "execution_count": 8,
   "id": "2761b619",
   "metadata": {},
   "outputs": [],
   "source": [
    "# For coco dataset\n",
    "# There are three necessary keys in the json file:\n",
    "\n",
    "# images: contains a list of images with their information like file_name, height, width, and id.\n",
    "# annotations: contains the list of instance annotations.\n",
    "# categories: contains the list of categories names and their ID.\n",
    "\n",
    "\n",
    "# {\n",
    "#     \"images\": [image],\n",
    "#     \"annotations\": [annotation],\n",
    "#     \"categories\": [category]\n",
    "# }\n",
    "\n",
    "\n",
    "# image = {\n",
    "#     \"id\": int,\n",
    "#     \"width\": int,\n",
    "#     \"height\": int,\n",
    "#     \"file_name\": str,\n",
    "# }\n",
    "# annotation = {\n",
    "#     \"id\": int,\n",
    "#     \"image_id\": int,\n",
    "#     \"category_id\": int,\n",
    "#     \"area\": float,\n",
    "#     \"bbox\": [x,y,width,height],\n",
    "#     \"iscrowd\": 0 or 1,\n",
    "# }\n",
    "# categories = [{\n",
    "#     \"id\": int,\n",
    "#     \"name\": str,\n",
    "#     \"supercategory\": str,\n",
    "# }]"
   ]
  },
  {
   "cell_type": "markdown",
   "id": "3579bda1",
   "metadata": {},
   "source": [
    "### Generating annotations"
   ]
  },
  {
   "cell_type": "code",
   "execution_count": 9,
   "id": "04a6d444",
   "metadata": {},
   "outputs": [],
   "source": [
    "f= open(DATASET_BASE_PATH/'eval'/'objectclasses.json','r')\n",
    "labels_info = json.load(f)"
   ]
  },
  {
   "cell_type": "code",
   "execution_count": 10,
   "id": "956de214",
   "metadata": {},
   "outputs": [],
   "source": [
    "categories=[]\n",
    "for cat in labels_info:\n",
    "    categories.append({\n",
    "        'name':cat['Name'],\n",
    "        'id':cat['Id'],\n",
    "    })"
   ]
  },
  {
   "cell_type": "code",
   "execution_count": 11,
   "id": "e4a1ecad",
   "metadata": {},
   "outputs": [
    {
     "data": {
      "text/plain": [
       "[{'name': 'l_klt_4147', 'id': 1011},\n",
       " {'name': 'l_klt_6147', 'id': 1012},\n",
       " {'name': 'l_klt_8210', 'id': 1013},\n",
       " {'name': 'pallet', 'id': 1100},\n",
       " {'name': 'str', 'id': 2050},\n",
       " {'name': 'cabinet', 'id': 1040},\n",
       " {'name': 'locker', 'id': 1030},\n",
       " {'name': 'jack', 'id': 1120},\n",
       " {'name': 'dolly', 'id': 1110},\n",
       " {'name': 'spring_post', 'id': 1135},\n",
       " {'name': 'exit_sign', 'id': 4000},\n",
       " {'name': 'fire_extinguisher', 'id': 5010},\n",
       " {'name': 'stillage_open', 'id': 1003},\n",
       " {'name': 'stillage_close', 'id': 1002},\n",
       " {'name': 'cardboard_box', 'id': 1070},\n",
       " {'name': 'forklift', 'id': 2010},\n",
       " {'name': 'bicycle', 'id': 2000}]"
      ]
     },
     "execution_count": 11,
     "metadata": {},
     "output_type": "execute_result"
    }
   ],
   "source": [
    "categories"
   ]
  },
  {
   "cell_type": "code",
   "execution_count": 14,
   "id": "9c8cd726",
   "metadata": {},
   "outputs": [],
   "source": [
    "def extract_image_annotations(img_name,folder):\n",
    "    annotations=[]\n",
    "    f= open(os.path.join(DATASET_BASE_PATH,'SORD_2022',folder,'labels','json',img_name.replace('jpg','json')))\n",
    "    file_annotations=json.load(f)\n",
    "    for annot_content in file_annotations:\n",
    "        x=annot_content['Left']\n",
    "        y=annot_content['Top']\n",
    "        width=abs(annot_content['Right']-annot_content['Left'])\n",
    "        height=abs(annot_content['Bottom']-annot_content['Top'])\n",
    "\n",
    "        size=(width*height/H*W)\n",
    "        size = (round(size*100,2))\n",
    "        annotations.append({\n",
    "            \"id\": img_id+'_'+str(annot_content['Id']),\n",
    "            \"image_id\": img_id,\n",
    "            \"category_id\": annot_content['ObjectClassId'],\n",
    "            \"bbox\": [x, y, width, height],\n",
    "            'area':width*height\n",
    "        })\n",
    "    return annotations"
   ]
  },
  {
   "cell_type": "code",
   "execution_count": 15,
   "id": "d1e773d1",
   "metadata": {
    "scrolled": true
   },
   "outputs": [
    {
     "name": "stdout",
     "output_type": "stream",
     "text": [
      "SORDI_2022_h4001_bicycle\n"
     ]
    },
    {
     "name": "stderr",
     "output_type": "stream",
     "text": [
      "  1%|▍                                                                               | 10/1750 [00:00<00:33, 52.19it/s]\n",
      "  1%|█                                                                               | 10/750 [00:00<00:06, 118.53it/s]\n"
     ]
    },
    {
     "name": "stdout",
     "output_type": "stream",
     "text": [
      "SORDI_2022_h4002_cabinet\n"
     ]
    },
    {
     "name": "stderr",
     "output_type": "stream",
     "text": [
      "  1%|▍                                                                               | 10/1750 [00:00<00:21, 79.97it/s]\n",
      "  1%|█                                                                               | 10/750 [00:00<00:03, 243.26it/s]\n"
     ]
    },
    {
     "name": "stdout",
     "output_type": "stream",
     "text": [
      "SORDI_2022_h4003_cardboard box\n"
     ]
    },
    {
     "name": "stderr",
     "output_type": "stream",
     "text": [
      "  1%|▍                                                                               | 10/1750 [00:00<00:27, 63.24it/s]\n",
      "  1%|█                                                                               | 10/750 [00:00<00:04, 159.96it/s]\n"
     ]
    },
    {
     "name": "stdout",
     "output_type": "stream",
     "text": [
      "SORDI_2022_h4004_dolly\n"
     ]
    },
    {
     "name": "stderr",
     "output_type": "stream",
     "text": [
      "  1%|▍                                                                               | 10/1750 [00:00<00:25, 68.80it/s]\n",
      "  1%|█                                                                               | 10/750 [00:00<00:04, 164.14it/s]\n"
     ]
    },
    {
     "name": "stdout",
     "output_type": "stream",
     "text": [
      "SORDI_2022_h4005_exit sign\n"
     ]
    },
    {
     "name": "stderr",
     "output_type": "stream",
     "text": [
      "  1%|▍                                                                               | 10/1750 [00:00<00:22, 76.54it/s]\n",
      "  1%|█                                                                               | 10/750 [00:00<00:04, 170.00it/s]\n"
     ]
    },
    {
     "name": "stdout",
     "output_type": "stream",
     "text": [
      "SORDI_2022_h4006_fire extinguisher\n"
     ]
    },
    {
     "name": "stderr",
     "output_type": "stream",
     "text": [
      "  1%|▍                                                                              | 10/1750 [00:00<00:16, 102.40it/s]\n",
      "  1%|█                                                                               | 10/750 [00:00<00:03, 212.04it/s]\n"
     ]
    },
    {
     "name": "stdout",
     "output_type": "stream",
     "text": [
      "SORDI_2022_h4007_forklift\n"
     ]
    },
    {
     "name": "stderr",
     "output_type": "stream",
     "text": [
      "  1%|▍                                                                               | 10/1750 [00:00<00:26, 65.25it/s]\n",
      "  1%|█                                                                               | 10/750 [00:00<00:04, 152.82it/s]\n"
     ]
    },
    {
     "name": "stdout",
     "output_type": "stream",
     "text": [
      "SORDI_2022_h4008_jack\n"
     ]
    },
    {
     "name": "stderr",
     "output_type": "stream",
     "text": [
      "  1%|▍                                                                               | 10/1750 [00:00<00:28, 61.92it/s]\n",
      "  1%|█                                                                               | 10/750 [00:00<00:04, 168.43it/s]\n"
     ]
    },
    {
     "name": "stdout",
     "output_type": "stream",
     "text": [
      "SORDI_2022_h4009_L-KLT 8210\n"
     ]
    },
    {
     "name": "stderr",
     "output_type": "stream",
     "text": [
      "  1%|▍                                                                               | 10/1750 [00:00<00:21, 82.35it/s]\n",
      "  1%|█                                                                               | 10/750 [00:00<00:04, 154.67it/s]\n"
     ]
    },
    {
     "name": "stdout",
     "output_type": "stream",
     "text": [
      "SORDI_2022_h4010_L-KLT 4147\n"
     ]
    },
    {
     "name": "stderr",
     "output_type": "stream",
     "text": [
      "  1%|▍                                                                               | 10/1750 [00:00<00:17, 98.11it/s]\n",
      "  1%|█                                                                               | 10/750 [00:00<00:04, 162.85it/s]\n"
     ]
    },
    {
     "name": "stdout",
     "output_type": "stream",
     "text": [
      "SORDI_2022_h4011_L-KLT 6147\n"
     ]
    },
    {
     "name": "stderr",
     "output_type": "stream",
     "text": [
      "  1%|▍                                                                               | 10/1750 [00:00<00:28, 61.35it/s]\n",
      "  1%|█                                                                               | 10/750 [00:00<00:05, 136.61it/s]\n"
     ]
    },
    {
     "name": "stdout",
     "output_type": "stream",
     "text": [
      "SORDI_2022_h4012_locker\n"
     ]
    },
    {
     "name": "stderr",
     "output_type": "stream",
     "text": [
      "  1%|▍                                                                               | 10/1750 [00:00<00:19, 89.05it/s]\n",
      "  1%|█                                                                               | 10/750 [00:00<00:04, 174.54it/s]\n"
     ]
    },
    {
     "name": "stdout",
     "output_type": "stream",
     "text": [
      "SORDI_2022_h4013_pallet\n"
     ]
    },
    {
     "name": "stderr",
     "output_type": "stream",
     "text": [
      "  1%|▍                                                                               | 10/1750 [00:00<00:23, 73.33it/s]\n",
      "  1%|█                                                                               | 10/750 [00:00<00:03, 195.95it/s]\n"
     ]
    },
    {
     "name": "stdout",
     "output_type": "stream",
     "text": [
      "SORDI_2022_h4014_spring post\n"
     ]
    },
    {
     "name": "stderr",
     "output_type": "stream",
     "text": [
      "  1%|▍                                                                               | 10/1750 [00:00<00:25, 69.37it/s]\n",
      "  1%|█                                                                               | 10/750 [00:00<00:04, 161.42it/s]\n"
     ]
    },
    {
     "name": "stdout",
     "output_type": "stream",
     "text": [
      "SORDI_2022_h4015_stillage close\n"
     ]
    },
    {
     "name": "stderr",
     "output_type": "stream",
     "text": [
      "  1%|▍                                                                               | 10/1750 [00:00<00:25, 69.45it/s]\n",
      "  1%|█                                                                               | 10/750 [00:00<00:03, 223.98it/s]\n"
     ]
    },
    {
     "name": "stdout",
     "output_type": "stream",
     "text": [
      "SORDI_2022_h4016_stillage open\n"
     ]
    },
    {
     "name": "stderr",
     "output_type": "stream",
     "text": [
      "  1%|▍                                                                               | 10/1750 [00:00<00:23, 75.18it/s]\n",
      "  1%|█                                                                               | 10/750 [00:00<00:03, 244.01it/s]\n"
     ]
    },
    {
     "name": "stdout",
     "output_type": "stream",
     "text": [
      "SORDI_2022_h4017_STR\n"
     ]
    },
    {
     "name": "stderr",
     "output_type": "stream",
     "text": [
      "  1%|▍                                                                               | 10/1750 [00:00<00:25, 69.04it/s]\n",
      "  1%|█                                                                               | 10/750 [00:00<00:03, 186.75it/s]\n"
     ]
    },
    {
     "name": "stdout",
     "output_type": "stream",
     "text": [
      "SORDI_2022_h4018_KLT on rack\n"
     ]
    },
    {
     "name": "stderr",
     "output_type": "stream",
     "text": [
      "  0%|▏                                                                               | 10/4034 [00:00<02:06, 31.88it/s]\n",
      "  1%|▍                                                                               | 10/1730 [00:00<00:43, 39.24it/s]\n"
     ]
    },
    {
     "name": "stdout",
     "output_type": "stream",
     "text": [
      "SORDI_2022_h4019_KLT stack\n"
     ]
    },
    {
     "name": "stderr",
     "output_type": "stream",
     "text": [
      "  1%|▍                                                                               | 10/1748 [00:00<00:36, 47.96it/s]\n",
      "  1%|█                                                                                | 10/750 [00:00<00:14, 52.83it/s]\n"
     ]
    },
    {
     "name": "stdout",
     "output_type": "stream",
     "text": [
      "SORDI_2022_h4020_warehouse\n"
     ]
    },
    {
     "name": "stderr",
     "output_type": "stream",
     "text": [
      "  0%|▏                                                                               | 10/5818 [00:00<03:40, 26.34it/s]\n",
      "  0%|▎                                                                               | 10/2494 [00:00<01:14, 33.41it/s]\n"
     ]
    },
    {
     "name": "stdout",
     "output_type": "stream",
     "text": [
      "SORDI_2022_h4022_industrial rooms 360p\n"
     ]
    },
    {
     "name": "stderr",
     "output_type": "stream",
     "text": [
      "  0%|                                                                                | 10/8486 [00:00<04:50, 29.22it/s]\n",
      "  0%|▏                                                                               | 10/3637 [00:00<01:28, 40.83it/s]\n"
     ]
    },
    {
     "name": "stdout",
     "output_type": "stream",
     "text": [
      "SORDI_2022_h4023_industrial rooms\n"
     ]
    },
    {
     "name": "stderr",
     "output_type": "stream",
     "text": [
      "  0%|                                                                               | 10/12110 [00:00<05:02, 40.03it/s]\n",
      "  0%|▏                                                                               | 10/5191 [00:00<01:39, 52.29it/s]\n"
     ]
    },
    {
     "name": "stdout",
     "output_type": "stream",
     "text": [
      "SORDI_2022_h4024_regensburg plant 360p\n"
     ]
    },
    {
     "name": "stderr",
     "output_type": "stream",
     "text": [
      "  0%|                                                                               | 10/40802 [00:00<31:57, 21.28it/s]\n",
      "  0%|                                                                               | 10/17487 [00:00<10:28, 27.79it/s]\n"
     ]
    },
    {
     "name": "stdout",
     "output_type": "stream",
     "text": [
      "SORDI_2022_h4025_regensburg plant\n"
     ]
    },
    {
     "name": "stderr",
     "output_type": "stream",
     "text": [
      "  0%|                                                                               | 10/33285 [00:00<21:16, 26.08it/s]\n",
      "  0%|                                                                               | 10/14265 [00:00<08:13, 28.86it/s]\n"
     ]
    }
   ],
   "source": [
    "train_images=[]\n",
    "train_annotations=[]\n",
    "\n",
    "val_images=[]\n",
    "val_annotations=[]\n",
    "\n",
    "val_size = 0.30\n",
    "\n",
    "for folder in os.listdir(DATASET_BASE_PATH/'SORD_2022'):\n",
    "    print(folder)\n",
    "    N=0\n",
    "    img_id_prefix=''\n",
    "    for x in (folder.split('_')[0:-1]):\n",
    "        img_id_prefix=img_id_prefix+x\n",
    "        img_id_prefix = img_id_prefix+'_'\n",
    "    img_id_prefix = img_id_prefix[0:-1] \n",
    "    \n",
    "#   Determining image size\n",
    "    if '360p' in folder:\n",
    "        H,W,C=(360,640,3)\n",
    "    else:\n",
    "        H,W,C=(720,1080,3)\n",
    "#   Train Test Split\n",
    "    folder_imgs=os.listdir(os.path.join(DATASET_BASE_PATH,'SORD_2022',folder,'images'))\n",
    "    folder_imgs_train,folder_imgs_val=train_test_split(folder_imgs,test_size = val_size)\n",
    "   \n",
    "    N=0\n",
    "    for i in tqdm(range(len(folder_imgs_train))):\n",
    "        if N==10:\n",
    "            break\n",
    "        N=N+1\n",
    "        img_name=folder_imgs_train[i]\n",
    "        file_name=os.path.join(DATASET_BASE_PATH,'SORD_2022',folder,'images',img_name)\n",
    "        img_id=img_id_prefix+'_'+img_name.split('.')[0]\n",
    "        train_images.append({\n",
    "            'id':img_id,\n",
    "            'file_name':file_name,\n",
    "            'height':H,\n",
    "            'width':W\n",
    "        })\n",
    "        train_annotations=train_annotations+ extract_image_annotations(img_name,folder)\n",
    "    N=0\n",
    "    for i in tqdm(range(len(folder_imgs_val))):\n",
    "        if N==10:\n",
    "            break\n",
    "        N=N+1\n",
    "        img_name=folder_imgs_val[i]\n",
    "        file_name=os.path.join(DATASET_BASE_PATH,'SORD_2022',folder,'images',img_name)\n",
    "        img_id=img_id_prefix+'_'+img_name.split('.')[0]\n",
    "        val_images.append({\n",
    "            'id':img_id,\n",
    "            'file_name':file_name,\n",
    "            'height':H,\n",
    "            'width':W\n",
    "        })\n",
    "        val_annotations=val_annotations+ extract_image_annotations(img_name,folder)\n",
    "\n",
    "    \n",
    "        \n"
   ]
  },
  {
   "cell_type": "code",
   "execution_count": 16,
   "id": "142d0d5e",
   "metadata": {},
   "outputs": [
    {
     "name": "stdout",
     "output_type": "stream",
     "text": [
      "Size of Train images 240\n",
      "Size of Train Annotations 4537\n"
     ]
    }
   ],
   "source": [
    "print('Size of Train images',len(train_images))\n",
    "print('Size of Train Annotations',len(train_annotations))"
   ]
  },
  {
   "cell_type": "code",
   "execution_count": 17,
   "id": "9d43b431",
   "metadata": {},
   "outputs": [
    {
     "name": "stdout",
     "output_type": "stream",
     "text": [
      "Size of Val images 240\n",
      "Size of Val Annotations 4204\n"
     ]
    }
   ],
   "source": [
    "print('Size of Val images',len(val_images))\n",
    "print('Size of Val Annotations',len(val_annotations))"
   ]
  },
  {
   "cell_type": "code",
   "execution_count": 18,
   "id": "2369903e",
   "metadata": {},
   "outputs": [],
   "source": [
    "train_annotation_name='train_sord_coco_annotations.json'\n",
    "val_annotation_name='val_sord_coco_annotations.json'"
   ]
  },
  {
   "cell_type": "code",
   "execution_count": 19,
   "id": "5d9884b1",
   "metadata": {},
   "outputs": [],
   "source": [
    "coco_format_json = dict(\n",
    "        images=train_images,\n",
    "        annotations=train_annotations,\n",
    "        categories=categories)\n",
    "mmcv.dump(coco_format_json,train_annotation_name )"
   ]
  },
  {
   "cell_type": "code",
   "execution_count": 20,
   "id": "723830a3",
   "metadata": {},
   "outputs": [],
   "source": [
    "coco_format_json = dict(\n",
    "        images=val_images,\n",
    "        annotations=val_annotations,\n",
    "        categories=categories)\n",
    "mmcv.dump(coco_format_json,val_annotation_name )"
   ]
  },
  {
   "cell_type": "code",
   "execution_count": null,
   "id": "741f1417",
   "metadata": {},
   "outputs": [],
   "source": []
  }
 ],
 "metadata": {
  "kernelspec": {
   "display_name": "Python 3",
   "language": "python",
   "name": "python3"
  },
  "language_info": {
   "codemirror_mode": {
    "name": "ipython",
    "version": 3
   },
   "file_extension": ".py",
   "mimetype": "text/x-python",
   "name": "python",
   "nbconvert_exporter": "python",
   "pygments_lexer": "ipython3",
   "version": "3.6.9"
  }
 },
 "nbformat": 4,
 "nbformat_minor": 5
}
