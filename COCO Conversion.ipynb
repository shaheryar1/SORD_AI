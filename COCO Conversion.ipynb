{
 "cells": [
  {
   "cell_type": "code",
   "execution_count": 22,
   "id": "f2ac4c4d",
   "metadata": {},
   "outputs": [
    {
     "name": "stderr",
     "output_type": "stream",
     "text": [
      "C:\\Users\\Shaheryar\\anaconda3\\envs\\sord_env\\lib\\site-packages\\mmcv\\__init__.py:21: UserWarning: On January 1, 2023, MMCV will release v2.0.0, in which it will remove components related to the training process and add a data transformation module. In addition, it will rename the package names mmcv to mmcv-lite and mmcv-full to mmcv. See https://github.com/open-mmlab/mmcv/blob/master/docs/en/compatibility.md for more details.\n",
      "  'On January 1, 2023, MMCV will release v2.0.0, in which it will remove '\n"
     ]
    }
   ],
   "source": [
    "import os\n",
    "import pandas as pd\n",
    "import numpy as np \n",
    "import matplotlib.pyplot as plt\n",
    "import json\n",
    "from pathlib import Path\n",
    "import cv2\n",
    "import mmcv\n",
    "from tqdm import tqdm"
   ]
  },
  {
   "cell_type": "code",
   "execution_count": 16,
   "id": "feeee08b",
   "metadata": {},
   "outputs": [
    {
     "name": "stdout",
     "output_type": "stream",
     "text": [
      "Collecting tqdm\n",
      "  Using cached tqdm-4.64.1-py2.py3-none-any.whl (78 kB)\n",
      "Collecting importlib-resources\n",
      "  Downloading importlib_resources-5.4.0-py3-none-any.whl (28 kB)\n",
      "Requirement already satisfied: colorama in c:\\users\\shaheryar\\anaconda3\\envs\\sord_env\\lib\\site-packages (from tqdm) (0.4.5)\n",
      "Requirement already satisfied: zipp>=3.1.0 in c:\\users\\shaheryar\\anaconda3\\envs\\sord_env\\lib\\site-packages (from importlib-resources->tqdm) (3.6.0)\n",
      "Installing collected packages: importlib-resources, tqdm\n",
      "Successfully installed importlib-resources-5.4.0 tqdm-4.64.1\n"
     ]
    }
   ],
   "source": [
    "!pip3 install tqdm"
   ]
  },
  {
   "cell_type": "code",
   "execution_count": 2,
   "id": "2d4cce1b",
   "metadata": {},
   "outputs": [],
   "source": [
    "DATASET_BASE_PATH=Path('D:\\SORD AI\\Dataset')"
   ]
  },
  {
   "cell_type": "code",
   "execution_count": 3,
   "id": "2761b619",
   "metadata": {},
   "outputs": [],
   "source": [
    "# For coco dataset\n",
    "# There are three necessary keys in the json file:\n",
    "\n",
    "# images: contains a list of images with their information like file_name, height, width, and id.\n",
    "# annotations: contains the list of instance annotations.\n",
    "# categories: contains the list of categories names and their ID.\n",
    "\n",
    "\n",
    "# {\n",
    "#     \"images\": [image],\n",
    "#     \"annotations\": [annotation],\n",
    "#     \"categories\": [category]\n",
    "# }\n",
    "\n",
    "\n",
    "# image = {\n",
    "#     \"id\": int,\n",
    "#     \"width\": int,\n",
    "#     \"height\": int,\n",
    "#     \"file_name\": str,\n",
    "# }\n",
    "# annotation = {\n",
    "#     \"id\": int,\n",
    "#     \"image_id\": int,\n",
    "#     \"category_id\": int,\n",
    "#     \"area\": float,\n",
    "#     \"bbox\": [x,y,width,height],\n",
    "#     \"iscrowd\": 0 or 1,\n",
    "# }\n",
    "# categories = [{\n",
    "#     \"id\": int,\n",
    "#     \"name\": str,\n",
    "#     \"supercategory\": str,\n",
    "# }]"
   ]
  },
  {
   "cell_type": "markdown",
   "id": "3579bda1",
   "metadata": {},
   "source": [
    "### Generating annotations"
   ]
  },
  {
   "cell_type": "code",
   "execution_count": 4,
   "id": "04a6d444",
   "metadata": {},
   "outputs": [],
   "source": [
    "f= open(DATASET_BASE_PATH/'eval'/'objectclasses.json','r')\n",
    "labels_info = json.load(f)"
   ]
  },
  {
   "cell_type": "code",
   "execution_count": 5,
   "id": "956de214",
   "metadata": {},
   "outputs": [],
   "source": [
    "categories=[]\n",
    "for cat in labels_info:\n",
    "    categories.append({\n",
    "        'name':cat['Name'],\n",
    "        'id':cat['Id'],\n",
    "    })"
   ]
  },
  {
   "cell_type": "code",
   "execution_count": 6,
   "id": "e4a1ecad",
   "metadata": {},
   "outputs": [
    {
     "data": {
      "text/plain": [
       "[{'name': 'l_klt_4147', 'id': 1011},\n",
       " {'name': 'l_klt_6147', 'id': 1012},\n",
       " {'name': 'l_klt_8210', 'id': 1013},\n",
       " {'name': 'pallet', 'id': 1100},\n",
       " {'name': 'str', 'id': 2050},\n",
       " {'name': 'cabinet', 'id': 1040},\n",
       " {'name': 'locker', 'id': 1030},\n",
       " {'name': 'jack', 'id': 1120},\n",
       " {'name': 'dolly', 'id': 1110},\n",
       " {'name': 'spring_post', 'id': 1135},\n",
       " {'name': 'exit_sign', 'id': 4000},\n",
       " {'name': 'fire_extinguisher', 'id': 5010},\n",
       " {'name': 'stillage_open', 'id': 1003},\n",
       " {'name': 'stillage_close', 'id': 1002},\n",
       " {'name': 'cardboard_box', 'id': 1070},\n",
       " {'name': 'forklift', 'id': 2010},\n",
       " {'name': 'bicycle', 'id': 2000}]"
      ]
     },
     "execution_count": 6,
     "metadata": {},
     "output_type": "execute_result"
    }
   ],
   "source": [
    "categories"
   ]
  },
  {
   "cell_type": "code",
   "execution_count": 18,
   "id": "d1e773d1",
   "metadata": {},
   "outputs": [
    {
     "name": "stdout",
     "output_type": "stream",
     "text": [
      "SORDI_2022_h4001_bicycle\n"
     ]
    },
    {
     "name": "stderr",
     "output_type": "stream",
     "text": [
      "100%|████████████████████████████████████████████████████████████████████████████| 2500/2500 [00:00<00:00, 2597.55it/s]\n"
     ]
    },
    {
     "name": "stdout",
     "output_type": "stream",
     "text": [
      "SORDI_2022_h4002_cabinet\n"
     ]
    },
    {
     "name": "stderr",
     "output_type": "stream",
     "text": [
      "100%|████████████████████████████████████████████████████████████████████████████| 2500/2500 [00:00<00:00, 2589.36it/s]\n"
     ]
    },
    {
     "name": "stdout",
     "output_type": "stream",
     "text": [
      "SORDI_2022_h4003_cardboard box\n"
     ]
    },
    {
     "name": "stderr",
     "output_type": "stream",
     "text": [
      "100%|████████████████████████████████████████████████████████████████████████████| 2500/2500 [00:00<00:00, 2732.73it/s]\n"
     ]
    },
    {
     "name": "stdout",
     "output_type": "stream",
     "text": [
      "SORDI_2022_h4004_dolly\n"
     ]
    },
    {
     "name": "stderr",
     "output_type": "stream",
     "text": [
      "100%|████████████████████████████████████████████████████████████████████████████| 2500/2500 [00:00<00:00, 2986.57it/s]\n"
     ]
    },
    {
     "name": "stdout",
     "output_type": "stream",
     "text": [
      "SORDI_2022_h4005_exit sign\n"
     ]
    },
    {
     "name": "stderr",
     "output_type": "stream",
     "text": [
      "100%|████████████████████████████████████████████████████████████████████████████| 2500/2500 [00:00<00:00, 2746.37it/s]\n"
     ]
    },
    {
     "name": "stdout",
     "output_type": "stream",
     "text": [
      "SORDI_2022_h4006_fire extinguisher\n"
     ]
    },
    {
     "name": "stderr",
     "output_type": "stream",
     "text": [
      "100%|████████████████████████████████████████████████████████████████████████████| 2500/2500 [00:00<00:00, 2915.59it/s]\n"
     ]
    },
    {
     "name": "stdout",
     "output_type": "stream",
     "text": [
      "SORDI_2022_h4007_forklift\n"
     ]
    },
    {
     "name": "stderr",
     "output_type": "stream",
     "text": [
      "100%|████████████████████████████████████████████████████████████████████████████| 2500/2500 [00:00<00:00, 2879.47it/s]\n"
     ]
    },
    {
     "name": "stdout",
     "output_type": "stream",
     "text": [
      "SORDI_2022_h4008_jack\n"
     ]
    },
    {
     "name": "stderr",
     "output_type": "stream",
     "text": [
      "100%|████████████████████████████████████████████████████████████████████████████| 2500/2500 [00:00<00:00, 2727.76it/s]\n"
     ]
    },
    {
     "name": "stdout",
     "output_type": "stream",
     "text": [
      "SORDI_2022_h4009_L-KLT 8210\n"
     ]
    },
    {
     "name": "stderr",
     "output_type": "stream",
     "text": [
      "100%|████████████████████████████████████████████████████████████████████████████| 2500/2500 [00:00<00:00, 3243.33it/s]\n"
     ]
    },
    {
     "name": "stdout",
     "output_type": "stream",
     "text": [
      "SORDI_2022_h4010_L-KLT 4147\n"
     ]
    },
    {
     "name": "stderr",
     "output_type": "stream",
     "text": [
      "100%|████████████████████████████████████████████████████████████████████████████| 2500/2500 [00:00<00:00, 2731.20it/s]\n"
     ]
    },
    {
     "name": "stdout",
     "output_type": "stream",
     "text": [
      "SORDI_2022_h4011_L-KLT 6147\n"
     ]
    },
    {
     "name": "stderr",
     "output_type": "stream",
     "text": [
      "100%|████████████████████████████████████████████████████████████████████████████| 2500/2500 [00:00<00:00, 2807.60it/s]\n"
     ]
    },
    {
     "name": "stdout",
     "output_type": "stream",
     "text": [
      "SORDI_2022_h4012_locker\n"
     ]
    },
    {
     "name": "stderr",
     "output_type": "stream",
     "text": [
      "100%|████████████████████████████████████████████████████████████████████████████| 2500/2500 [00:00<00:00, 3009.06it/s]\n"
     ]
    },
    {
     "name": "stdout",
     "output_type": "stream",
     "text": [
      "SORDI_2022_h4013_pallet\n"
     ]
    },
    {
     "name": "stderr",
     "output_type": "stream",
     "text": [
      "100%|████████████████████████████████████████████████████████████████████████████| 2500/2500 [00:00<00:00, 3135.26it/s]\n"
     ]
    },
    {
     "name": "stdout",
     "output_type": "stream",
     "text": [
      "SORDI_2022_h4014_spring post\n"
     ]
    },
    {
     "name": "stderr",
     "output_type": "stream",
     "text": [
      "100%|████████████████████████████████████████████████████████████████████████████| 2500/2500 [00:00<00:00, 3208.52it/s]\n"
     ]
    },
    {
     "name": "stdout",
     "output_type": "stream",
     "text": [
      "SORDI_2022_h4015_stillage close\n"
     ]
    },
    {
     "name": "stderr",
     "output_type": "stream",
     "text": [
      "100%|████████████████████████████████████████████████████████████████████████████| 2500/2500 [00:00<00:00, 2780.57it/s]\n"
     ]
    },
    {
     "name": "stdout",
     "output_type": "stream",
     "text": [
      "SORDI_2022_h4016_stillage open\n"
     ]
    },
    {
     "name": "stderr",
     "output_type": "stream",
     "text": [
      "100%|████████████████████████████████████████████████████████████████████████████| 2500/2500 [00:01<00:00, 1441.74it/s]\n"
     ]
    },
    {
     "name": "stdout",
     "output_type": "stream",
     "text": [
      "SORDI_2022_h4017_STR\n"
     ]
    },
    {
     "name": "stderr",
     "output_type": "stream",
     "text": [
      "100%|████████████████████████████████████████████████████████████████████████████| 2500/2500 [00:00<00:00, 2757.17it/s]\n"
     ]
    },
    {
     "name": "stdout",
     "output_type": "stream",
     "text": [
      "SORDI_2022_h4018_KLT on rack\n"
     ]
    },
    {
     "name": "stderr",
     "output_type": "stream",
     "text": [
      "100%|████████████████████████████████████████████████████████████████████████████| 5764/5764 [00:03<00:00, 1612.69it/s]\n"
     ]
    },
    {
     "name": "stdout",
     "output_type": "stream",
     "text": [
      "SORDI_2022_h4019_KLT stack\n"
     ]
    },
    {
     "name": "stderr",
     "output_type": "stream",
     "text": [
      "100%|████████████████████████████████████████████████████████████████████████████| 2498/2498 [00:01<00:00, 1586.04it/s]\n"
     ]
    },
    {
     "name": "stdout",
     "output_type": "stream",
     "text": [
      "SORDI_2022_h4020_warehouse\n"
     ]
    },
    {
     "name": "stderr",
     "output_type": "stream",
     "text": [
      "100%|█████████████████████████████████████████████████████████████████████████████| 8312/8312 [00:11<00:00, 720.05it/s]\n"
     ]
    },
    {
     "name": "stdout",
     "output_type": "stream",
     "text": [
      "SORDI_2022_h4022_industrial rooms 360p\n"
     ]
    },
    {
     "name": "stderr",
     "output_type": "stream",
     "text": [
      "100%|████████████████████████████████████████████████████████████████████████████| 12123/12123 [04:05<00:00, 49.34it/s]\n"
     ]
    },
    {
     "name": "stdout",
     "output_type": "stream",
     "text": [
      "SORDI_2022_h4023_industrial rooms\n"
     ]
    },
    {
     "name": "stderr",
     "output_type": "stream",
     "text": [
      "100%|████████████████████████████████████████████████████████████████████████████| 17301/17301 [08:19<00:00, 34.67it/s]\n"
     ]
    },
    {
     "name": "stdout",
     "output_type": "stream",
     "text": [
      "SORDI_2022_h4024_regensburg plant 360p\n"
     ]
    },
    {
     "name": "stderr",
     "output_type": "stream",
     "text": [
      "100%|████████████████████████████████████████████████████████████████████████████| 58289/58289 [38:12<00:00, 25.43it/s]\n"
     ]
    },
    {
     "name": "stdout",
     "output_type": "stream",
     "text": [
      "SORDI_2022_h4025_regensburg plant\n"
     ]
    },
    {
     "name": "stderr",
     "output_type": "stream",
     "text": [
      "100%|████████████████████████████████████████████████████████████████████████████| 47550/47550 [28:50<00:00, 27.48it/s]\n"
     ]
    }
   ],
   "source": [
    "images=[]\n",
    "annotations=[]\n",
    "for folder in os.listdir(DATASET_BASE_PATH/'SORD_2022'):\n",
    "    print(folder)\n",
    "    img_id_prefix=''\n",
    "    for x in (folder.split('_')[0:-1]):\n",
    "        img_id_prefix=img_id_prefix+x\n",
    "        img_id_prefix = img_id_prefix+'_'\n",
    "    img_id_prefix = img_id_prefix[0:-1] \n",
    "    \n",
    "    folder_imgs=os.listdir(os.path.join(DATASET_BASE_PATH,'SORD_2022',folder,'images'))\n",
    "     if '360p' in folder:\n",
    "            H,W,C=(720,1080,3)\n",
    "        else:\n",
    "            H,W,C=(360,640)\n",
    "            \n",
    "    for i in tqdm(range(len(folder_imgs))):\n",
    "        img_name=folder_imgs[i]\n",
    "        file_name=os.path.join(DATASET_BASE_PATH,'SORD_2022',folder,'images',img_name)\n",
    "        img_id=img_id_prefix+'_'+img_name.split('.')[0]\n",
    "        images.append({\n",
    "            'id':img_id,\n",
    "            'file_name':file_name,\n",
    "            'height':H,\n",
    "            'width':W\n",
    "        })\n",
    "        \n",
    "        f= open(os.path.join(DATASET_BASE_PATH,'SORD_2022',folder,'labels','json',img_name.replace('jpg','json')))\n",
    "        file_annotations=json.load(f)\n",
    "        for annot_content in file_annotations:\n",
    "            x=annot_content['Left']\n",
    "            y=annot_content['Top']\n",
    "            width=abs(annot_content['Right']-annot_content['Left'])\n",
    "            height=abs(annot_content['Bottom']-annot_content['Top'])\n",
    "\n",
    "            annotations.append({\n",
    "                \"id\": img_id+'_'+str(annot_content['Id']),\n",
    "                \"image_id\": img_id,\n",
    "                \"category_id\": annot_content['ObjectClassId'],\n",
    "                \"bbox\": [x, y, width, height],\n",
    "                'area':width*height\n",
    "            })\n",
    "\n",
    "        \n"
   ]
  },
  {
   "cell_type": "code",
   "execution_count": 19,
   "id": "142d0d5e",
   "metadata": {},
   "outputs": [
    {
     "name": "stdout",
     "output_type": "stream",
     "text": [
      "Size of images 194337\n",
      "Size of Annotations 13058467\n"
     ]
    }
   ],
   "source": [
    "print('Size of images',len(images))\n",
    "print('Size of Annotations',len(annotations))"
   ]
  },
  {
   "cell_type": "code",
   "execution_count": 23,
   "id": "5d9884b1",
   "metadata": {},
   "outputs": [],
   "source": [
    "coco_format_json = dict(\n",
    "        images=images,\n",
    "        annotations=annotations,\n",
    "        categories=categories)\n",
    "mmcv.dump(coco_format_json, 'all_images_coco.json')"
   ]
  },
  {
   "cell_type": "code",
   "execution_count": null,
   "id": "723830a3",
   "metadata": {},
   "outputs": [],
   "source": []
  }
 ],
 "metadata": {
  "kernelspec": {
   "display_name": "Python 3",
   "language": "python",
   "name": "python3"
  },
  "language_info": {
   "codemirror_mode": {
    "name": "ipython",
    "version": 3
   },
   "file_extension": ".py",
   "mimetype": "text/x-python",
   "name": "python",
   "nbconvert_exporter": "python",
   "pygments_lexer": "ipython3",
   "version": "3.6.9"
  }
 },
 "nbformat": 4,
 "nbformat_minor": 5
}
